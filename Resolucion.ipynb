{
 "cells": [
  {
   "cell_type": "markdown",
   "id": "4066bc63",
   "metadata": {},
   "source": [
    "# Resolución del Desafío Telecom X\n",
    "Este notebook documenta paso a paso el análisis exploratorio y modelado simple para el churn de clientes de Telecom X.\n",
    "\n",
    "**Índice:**\n",
    "1. Introducción\n",
    "2. Carga y exploración de datos\n",
    "3. Normalización de columnas anidadas\n",
    "4. Revisión y limpieza de datos\n",
    "5. Análisis exploratorio y visualizaciones\n",
    "6. Modelado simple de churn\n",
    "7. Conclusiones"
   ]
  },
  {
   "cell_type": "markdown",
   "id": "2bb116b7",
   "metadata": {},
   "source": [
    "## 1️⃣ Introducción\n",
    "El objetivo es identificar patrones de evasión de clientes (churn) y preparar los datos para modelos predictivos."
   ]
  },
  {
   "cell_type": "code",
   "execution_count": 2,
   "id": "ace6c01e",
   "metadata": {},
   "outputs": [],
   "source": [
    "# Importar librerías\n",
    "import pandas as pd\n",
    "import numpy as np\n",
    "import matplotlib.pyplot as plt\n",
    "import seaborn as sns\n",
    "from sklearn.model_selection import train_test_split\n",
    "from sklearn.linear_model import LogisticRegression\n",
    "from sklearn.metrics import accuracy_score, classification_report, confusion_matrix, roc_auc_score"
   ]
  },
  {
   "cell_type": "markdown",
   "id": "b38eef93",
   "metadata": {},
   "source": [
    "## 2️⃣ Carga y exploración de datos\n",
    "Se carga el archivo JSON y se visualizan las primeras filas y la estructura."
   ]
  },
  {
   "cell_type": "code",
   "execution_count": 3,
   "id": "b9d21d9e",
   "metadata": {},
   "outputs": [
    {
     "data": {
      "text/html": [
       "<div>\n",
       "<style scoped>\n",
       "    .dataframe tbody tr th:only-of-type {\n",
       "        vertical-align: middle;\n",
       "    }\n",
       "\n",
       "    .dataframe tbody tr th {\n",
       "        vertical-align: top;\n",
       "    }\n",
       "\n",
       "    .dataframe thead th {\n",
       "        text-align: right;\n",
       "    }\n",
       "</style>\n",
       "<table border=\"1\" class=\"dataframe\">\n",
       "  <thead>\n",
       "    <tr style=\"text-align: right;\">\n",
       "      <th></th>\n",
       "      <th>customerID</th>\n",
       "      <th>Churn</th>\n",
       "      <th>customer</th>\n",
       "      <th>phone</th>\n",
       "      <th>internet</th>\n",
       "      <th>account</th>\n",
       "    </tr>\n",
       "  </thead>\n",
       "  <tbody>\n",
       "    <tr>\n",
       "      <th>0</th>\n",
       "      <td>0002-ORFBO</td>\n",
       "      <td>No</td>\n",
       "      <td>{'gender': 'Female', 'SeniorCitizen': 0, 'Part...</td>\n",
       "      <td>{'PhoneService': 'Yes', 'MultipleLines': 'No'}</td>\n",
       "      <td>{'InternetService': 'DSL', 'OnlineSecurity': '...</td>\n",
       "      <td>{'Contract': 'One year', 'PaperlessBilling': '...</td>\n",
       "    </tr>\n",
       "    <tr>\n",
       "      <th>1</th>\n",
       "      <td>0003-MKNFE</td>\n",
       "      <td>No</td>\n",
       "      <td>{'gender': 'Male', 'SeniorCitizen': 0, 'Partne...</td>\n",
       "      <td>{'PhoneService': 'Yes', 'MultipleLines': 'Yes'}</td>\n",
       "      <td>{'InternetService': 'DSL', 'OnlineSecurity': '...</td>\n",
       "      <td>{'Contract': 'Month-to-month', 'PaperlessBilli...</td>\n",
       "    </tr>\n",
       "    <tr>\n",
       "      <th>2</th>\n",
       "      <td>0004-TLHLJ</td>\n",
       "      <td>Yes</td>\n",
       "      <td>{'gender': 'Male', 'SeniorCitizen': 0, 'Partne...</td>\n",
       "      <td>{'PhoneService': 'Yes', 'MultipleLines': 'No'}</td>\n",
       "      <td>{'InternetService': 'Fiber optic', 'OnlineSecu...</td>\n",
       "      <td>{'Contract': 'Month-to-month', 'PaperlessBilli...</td>\n",
       "    </tr>\n",
       "    <tr>\n",
       "      <th>3</th>\n",
       "      <td>0011-IGKFF</td>\n",
       "      <td>Yes</td>\n",
       "      <td>{'gender': 'Male', 'SeniorCitizen': 1, 'Partne...</td>\n",
       "      <td>{'PhoneService': 'Yes', 'MultipleLines': 'No'}</td>\n",
       "      <td>{'InternetService': 'Fiber optic', 'OnlineSecu...</td>\n",
       "      <td>{'Contract': 'Month-to-month', 'PaperlessBilli...</td>\n",
       "    </tr>\n",
       "    <tr>\n",
       "      <th>4</th>\n",
       "      <td>0013-EXCHZ</td>\n",
       "      <td>Yes</td>\n",
       "      <td>{'gender': 'Female', 'SeniorCitizen': 1, 'Part...</td>\n",
       "      <td>{'PhoneService': 'Yes', 'MultipleLines': 'No'}</td>\n",
       "      <td>{'InternetService': 'Fiber optic', 'OnlineSecu...</td>\n",
       "      <td>{'Contract': 'Month-to-month', 'PaperlessBilli...</td>\n",
       "    </tr>\n",
       "  </tbody>\n",
       "</table>\n",
       "</div>"
      ],
      "text/plain": [
       "   customerID Churn                                           customer  \\\n",
       "0  0002-ORFBO    No  {'gender': 'Female', 'SeniorCitizen': 0, 'Part...   \n",
       "1  0003-MKNFE    No  {'gender': 'Male', 'SeniorCitizen': 0, 'Partne...   \n",
       "2  0004-TLHLJ   Yes  {'gender': 'Male', 'SeniorCitizen': 0, 'Partne...   \n",
       "3  0011-IGKFF   Yes  {'gender': 'Male', 'SeniorCitizen': 1, 'Partne...   \n",
       "4  0013-EXCHZ   Yes  {'gender': 'Female', 'SeniorCitizen': 1, 'Part...   \n",
       "\n",
       "                                             phone  \\\n",
       "0   {'PhoneService': 'Yes', 'MultipleLines': 'No'}   \n",
       "1  {'PhoneService': 'Yes', 'MultipleLines': 'Yes'}   \n",
       "2   {'PhoneService': 'Yes', 'MultipleLines': 'No'}   \n",
       "3   {'PhoneService': 'Yes', 'MultipleLines': 'No'}   \n",
       "4   {'PhoneService': 'Yes', 'MultipleLines': 'No'}   \n",
       "\n",
       "                                            internet  \\\n",
       "0  {'InternetService': 'DSL', 'OnlineSecurity': '...   \n",
       "1  {'InternetService': 'DSL', 'OnlineSecurity': '...   \n",
       "2  {'InternetService': 'Fiber optic', 'OnlineSecu...   \n",
       "3  {'InternetService': 'Fiber optic', 'OnlineSecu...   \n",
       "4  {'InternetService': 'Fiber optic', 'OnlineSecu...   \n",
       "\n",
       "                                             account  \n",
       "0  {'Contract': 'One year', 'PaperlessBilling': '...  \n",
       "1  {'Contract': 'Month-to-month', 'PaperlessBilli...  \n",
       "2  {'Contract': 'Month-to-month', 'PaperlessBilli...  \n",
       "3  {'Contract': 'Month-to-month', 'PaperlessBilli...  \n",
       "4  {'Contract': 'Month-to-month', 'PaperlessBilli...  "
      ]
     },
     "execution_count": 3,
     "metadata": {},
     "output_type": "execute_result"
    }
   ],
   "source": [
    "# Cargar los datos\n",
    "df = pd.read_json('TelecomX_Data.json')\n",
    "df.head()"
   ]
  },
  {
   "cell_type": "code",
   "execution_count": 4,
   "id": "4f259e82",
   "metadata": {},
   "outputs": [
    {
     "name": "stdout",
     "output_type": "stream",
     "text": [
      "(7267, 6)\n",
      "<class 'pandas.core.frame.DataFrame'>\n",
      "RangeIndex: 7267 entries, 0 to 7266\n",
      "Data columns (total 6 columns):\n",
      " #   Column      Non-Null Count  Dtype \n",
      "---  ------      --------------  ----- \n",
      " 0   customerID  7267 non-null   object\n",
      " 1   Churn       7267 non-null   object\n",
      " 2   customer    7267 non-null   object\n",
      " 3   phone       7267 non-null   object\n",
      " 4   internet    7267 non-null   object\n",
      " 5   account     7267 non-null   object\n",
      "dtypes: object(6)\n",
      "memory usage: 340.8+ KB\n",
      "customerID    0\n",
      "Churn         0\n",
      "customer      0\n",
      "phone         0\n",
      "internet      0\n",
      "account       0\n",
      "dtype: int64\n",
      "customerID    0\n",
      "Churn         0\n",
      "customer      0\n",
      "phone         0\n",
      "internet      0\n",
      "account       0\n",
      "dtype: int64\n"
     ]
    }
   ],
   "source": [
    "# Información general\n",
    "print(df.shape)\n",
    "df.info()\n",
    "print(df.isnull().sum())\n",
    "print(df.isna().sum())"
   ]
  },
  {
   "cell_type": "markdown",
   "id": "269221c9",
   "metadata": {},
   "source": [
    "## 3️⃣ Normalización de columnas anidadas\n",
    "Las columnas `customer`, `phone`, `internet` y `account` contienen diccionarios. Se expanden para obtener un DataFrame plano."
   ]
  },
  {
   "cell_type": "code",
   "execution_count": 14,
   "id": "413760a2",
   "metadata": {},
   "outputs": [
    {
     "data": {
      "text/html": [
       "<div>\n",
       "<style scoped>\n",
       "    .dataframe tbody tr th:only-of-type {\n",
       "        vertical-align: middle;\n",
       "    }\n",
       "\n",
       "    .dataframe tbody tr th {\n",
       "        vertical-align: top;\n",
       "    }\n",
       "\n",
       "    .dataframe thead th {\n",
       "        text-align: right;\n",
       "    }\n",
       "</style>\n",
       "<table border=\"1\" class=\"dataframe\">\n",
       "  <thead>\n",
       "    <tr style=\"text-align: right;\">\n",
       "      <th></th>\n",
       "      <th>customerID</th>\n",
       "      <th>Churn</th>\n",
       "      <th>gender</th>\n",
       "      <th>SeniorCitizen</th>\n",
       "      <th>Partner</th>\n",
       "      <th>Dependents</th>\n",
       "      <th>tenure</th>\n",
       "      <th>PhoneService</th>\n",
       "      <th>MultipleLines</th>\n",
       "      <th>InternetService</th>\n",
       "      <th>...</th>\n",
       "      <th>OnlineBackup</th>\n",
       "      <th>DeviceProtection</th>\n",
       "      <th>TechSupport</th>\n",
       "      <th>StreamingTV</th>\n",
       "      <th>StreamingMovies</th>\n",
       "      <th>Contract</th>\n",
       "      <th>PaperlessBilling</th>\n",
       "      <th>PaymentMethod</th>\n",
       "      <th>Charges.Monthly</th>\n",
       "      <th>Charges.Total</th>\n",
       "    </tr>\n",
       "  </thead>\n",
       "  <tbody>\n",
       "    <tr>\n",
       "      <th>0</th>\n",
       "      <td>0002-ORFBO</td>\n",
       "      <td>No</td>\n",
       "      <td>Female</td>\n",
       "      <td>0</td>\n",
       "      <td>Yes</td>\n",
       "      <td>Yes</td>\n",
       "      <td>9</td>\n",
       "      <td>Yes</td>\n",
       "      <td>No</td>\n",
       "      <td>DSL</td>\n",
       "      <td>...</td>\n",
       "      <td>Yes</td>\n",
       "      <td>No</td>\n",
       "      <td>Yes</td>\n",
       "      <td>Yes</td>\n",
       "      <td>No</td>\n",
       "      <td>One year</td>\n",
       "      <td>Yes</td>\n",
       "      <td>Mailed check</td>\n",
       "      <td>65.6</td>\n",
       "      <td>593.3</td>\n",
       "    </tr>\n",
       "    <tr>\n",
       "      <th>1</th>\n",
       "      <td>0003-MKNFE</td>\n",
       "      <td>No</td>\n",
       "      <td>Male</td>\n",
       "      <td>0</td>\n",
       "      <td>No</td>\n",
       "      <td>No</td>\n",
       "      <td>9</td>\n",
       "      <td>Yes</td>\n",
       "      <td>Yes</td>\n",
       "      <td>DSL</td>\n",
       "      <td>...</td>\n",
       "      <td>No</td>\n",
       "      <td>No</td>\n",
       "      <td>No</td>\n",
       "      <td>No</td>\n",
       "      <td>Yes</td>\n",
       "      <td>Month-to-month</td>\n",
       "      <td>No</td>\n",
       "      <td>Mailed check</td>\n",
       "      <td>59.9</td>\n",
       "      <td>542.4</td>\n",
       "    </tr>\n",
       "    <tr>\n",
       "      <th>2</th>\n",
       "      <td>0004-TLHLJ</td>\n",
       "      <td>Yes</td>\n",
       "      <td>Male</td>\n",
       "      <td>0</td>\n",
       "      <td>No</td>\n",
       "      <td>No</td>\n",
       "      <td>4</td>\n",
       "      <td>Yes</td>\n",
       "      <td>No</td>\n",
       "      <td>Fiber optic</td>\n",
       "      <td>...</td>\n",
       "      <td>No</td>\n",
       "      <td>Yes</td>\n",
       "      <td>No</td>\n",
       "      <td>No</td>\n",
       "      <td>No</td>\n",
       "      <td>Month-to-month</td>\n",
       "      <td>Yes</td>\n",
       "      <td>Electronic check</td>\n",
       "      <td>73.9</td>\n",
       "      <td>280.85</td>\n",
       "    </tr>\n",
       "    <tr>\n",
       "      <th>3</th>\n",
       "      <td>0011-IGKFF</td>\n",
       "      <td>Yes</td>\n",
       "      <td>Male</td>\n",
       "      <td>1</td>\n",
       "      <td>Yes</td>\n",
       "      <td>No</td>\n",
       "      <td>13</td>\n",
       "      <td>Yes</td>\n",
       "      <td>No</td>\n",
       "      <td>Fiber optic</td>\n",
       "      <td>...</td>\n",
       "      <td>Yes</td>\n",
       "      <td>Yes</td>\n",
       "      <td>No</td>\n",
       "      <td>Yes</td>\n",
       "      <td>Yes</td>\n",
       "      <td>Month-to-month</td>\n",
       "      <td>Yes</td>\n",
       "      <td>Electronic check</td>\n",
       "      <td>98.0</td>\n",
       "      <td>1237.85</td>\n",
       "    </tr>\n",
       "    <tr>\n",
       "      <th>4</th>\n",
       "      <td>0013-EXCHZ</td>\n",
       "      <td>Yes</td>\n",
       "      <td>Female</td>\n",
       "      <td>1</td>\n",
       "      <td>Yes</td>\n",
       "      <td>No</td>\n",
       "      <td>3</td>\n",
       "      <td>Yes</td>\n",
       "      <td>No</td>\n",
       "      <td>Fiber optic</td>\n",
       "      <td>...</td>\n",
       "      <td>No</td>\n",
       "      <td>No</td>\n",
       "      <td>Yes</td>\n",
       "      <td>Yes</td>\n",
       "      <td>No</td>\n",
       "      <td>Month-to-month</td>\n",
       "      <td>Yes</td>\n",
       "      <td>Mailed check</td>\n",
       "      <td>83.9</td>\n",
       "      <td>267.4</td>\n",
       "    </tr>\n",
       "  </tbody>\n",
       "</table>\n",
       "<p>5 rows × 21 columns</p>\n",
       "</div>"
      ],
      "text/plain": [
       "   customerID Churn  gender  SeniorCitizen Partner Dependents  tenure  \\\n",
       "0  0002-ORFBO    No  Female              0     Yes        Yes       9   \n",
       "1  0003-MKNFE    No    Male              0      No         No       9   \n",
       "2  0004-TLHLJ   Yes    Male              0      No         No       4   \n",
       "3  0011-IGKFF   Yes    Male              1     Yes         No      13   \n",
       "4  0013-EXCHZ   Yes  Female              1     Yes         No       3   \n",
       "\n",
       "  PhoneService MultipleLines InternetService  ... OnlineBackup  \\\n",
       "0          Yes            No             DSL  ...          Yes   \n",
       "1          Yes           Yes             DSL  ...           No   \n",
       "2          Yes            No     Fiber optic  ...           No   \n",
       "3          Yes            No     Fiber optic  ...          Yes   \n",
       "4          Yes            No     Fiber optic  ...           No   \n",
       "\n",
       "  DeviceProtection TechSupport StreamingTV StreamingMovies        Contract  \\\n",
       "0               No         Yes         Yes              No        One year   \n",
       "1               No          No          No             Yes  Month-to-month   \n",
       "2              Yes          No          No              No  Month-to-month   \n",
       "3              Yes          No         Yes             Yes  Month-to-month   \n",
       "4               No         Yes         Yes              No  Month-to-month   \n",
       "\n",
       "  PaperlessBilling     PaymentMethod Charges.Monthly  Charges.Total  \n",
       "0              Yes      Mailed check            65.6          593.3  \n",
       "1               No      Mailed check            59.9          542.4  \n",
       "2              Yes  Electronic check            73.9         280.85  \n",
       "3              Yes  Electronic check            98.0        1237.85  \n",
       "4              Yes      Mailed check            83.9          267.4  \n",
       "\n",
       "[5 rows x 21 columns]"
      ]
     },
     "execution_count": 14,
     "metadata": {},
     "output_type": "execute_result"
    }
   ],
   "source": [
    "# Expandir columnas anidadas\n",
    "customer_df = pd.json_normalize(df['customer'])\n",
    "phone_df = pd.json_normalize(df['phone'])\n",
    "internet_df = pd.json_normalize(df['internet'])\n",
    "account_df = pd.json_normalize(df['account'])\n",
    "df_flat = pd.concat([\n",
    "    df[['customerID', 'Churn']],\n",
    "    customer_df,\n",
    "    phone_df,\n",
    "    internet_df,\n",
    "    account_df\n",
    "], axis=1)\n",
    "df_flat.head()"
   ]
  },
  {
   "cell_type": "code",
   "execution_count": 15,
   "id": "c431c115",
   "metadata": {},
   "outputs": [],
   "source": [
    "# Filtrar filas con valores válidos en 'Churn'\n",
    "df_flat = df_flat[df_flat['Churn'] != \"\"]"
   ]
  },
  {
   "cell_type": "markdown",
   "id": "da493649",
   "metadata": {},
   "source": [
    "## 4️⃣ Revisión y limpieza de datos\n",
    "Conversión de tipos, tratamiento de nulos y revisión de la estructura final."
   ]
  },
  {
   "cell_type": "code",
   "execution_count": 16,
   "id": "f1339f71",
   "metadata": {},
   "outputs": [
    {
     "name": "stdout",
     "output_type": "stream",
     "text": [
      "<class 'pandas.core.frame.DataFrame'>\n",
      "Index: 7043 entries, 0 to 7266\n",
      "Data columns (total 21 columns):\n",
      " #   Column            Non-Null Count  Dtype  \n",
      "---  ------            --------------  -----  \n",
      " 0   customerID        7043 non-null   object \n",
      " 1   Churn             7043 non-null   object \n",
      " 2   gender            7043 non-null   object \n",
      " 3   SeniorCitizen     7043 non-null   int64  \n",
      " 4   Partner           7043 non-null   object \n",
      " 5   Dependents        7043 non-null   object \n",
      " 6   tenure            7043 non-null   int64  \n",
      " 7   PhoneService      7043 non-null   object \n",
      " 8   MultipleLines     7043 non-null   object \n",
      " 9   InternetService   7043 non-null   object \n",
      " 10  OnlineSecurity    7043 non-null   object \n",
      " 11  OnlineBackup      7043 non-null   object \n",
      " 12  DeviceProtection  7043 non-null   object \n",
      " 13  TechSupport       7043 non-null   object \n",
      " 14  StreamingTV       7043 non-null   object \n",
      " 15  StreamingMovies   7043 non-null   object \n",
      " 16  Contract          7043 non-null   object \n",
      " 17  PaperlessBilling  7043 non-null   object \n",
      " 18  PaymentMethod     7043 non-null   object \n",
      " 19  Charges.Monthly   7043 non-null   float64\n",
      " 20  Charges.Total     7032 non-null   float64\n",
      "dtypes: float64(2), int64(2), object(17)\n",
      "memory usage: 1.2+ MB\n"
     ]
    }
   ],
   "source": [
    "# Convertir columnas numéricas y tratar nulos\n",
    "if 'SeniorCitizen' in df_flat.columns:\n",
    "    df_flat['SeniorCitizen'] = df_flat['SeniorCitizen'].astype(int)\n",
    "for col in ['tenure', 'Charges.Monthly', 'Charges.Total']:\n",
    "    if col in df_flat.columns:\n",
    "        df_flat[col] = pd.to_numeric(df_flat[col], errors='coerce')\n",
    "df_flat.info()\n",
    "df_flat.isnull().sum()\n",
    "df_flat.isna().sum()\n",
    "df_flat.fillna(0, inplace=True)  # Imputar nulos con la media"
   ]
  },
  {
   "cell_type": "markdown",
   "id": "205c2098",
   "metadata": {},
   "source": [
    "## 5️⃣ Análisis exploratorio y visualizaciones\n",
    "Exploración de variables clave y visualización de patrones de churn."
   ]
  },
  {
   "cell_type": "code",
   "execution_count": 17,
   "id": "277837d1",
   "metadata": {},
   "outputs": [
    {
     "data": {
      "image/png": "[encoded data removed]",
      "text/plain": [
       "<Figure size 640x480 with 1 Axes>"
      ]
     },
     "metadata": {},
     "output_type": "display_data"
    }
   ],
   "source": [
    "# Distribución de churn\n",
    "df_flat['Churn'].value_counts().plot(kind='bar', color=['#4CAF50', '#F44336'])\n",
    "plt.title('Distribución de Churn')\n",
    "plt.xlabel('Churn')\n",
    "plt.ylabel('Cantidad de clientes')\n",
    "plt.show()"
   ]
  },
  {
   "cell_type": "code",
   "execution_count": 18,
   "id": "74830b04",
   "metadata": {},
   "outputs": [
    {
     "data": {
      "image/png": "[encoded data removed]",
      "text/plain": [
       "<Figure size 640x480 with 1 Axes>"
      ]
     },
     "metadata": {},
     "output_type": "display_data"
    }
   ],
   "source": [
    "# Churn por tipo de contrato\n",
    "if 'Contract' in df_flat.columns:\n",
    "    sns.countplot(data=df_flat, x='Contract', hue='Churn', palette='Set1')\n",
    "    plt.title('Churn por tipo de contrato')\n",
    "    plt.xticks(rotation=15)\n",
    "    plt.show()"
   ]
  },
  {
   "cell_type": "code",
   "execution_count": 19,
   "id": "e552a260",
   "metadata": {},
   "outputs": [
    {
     "data": {
      "image/png": "[encoded data removed]",
      "text/plain": [
       "<Figure size 800x400 with 1 Axes>"
      ]
     },
     "metadata": {},
     "output_type": "display_data"
    }
   ],
   "source": [
    "# Distribución de tenure según Churn\n",
    "if 'tenure' in df_flat.columns:\n",
    "    plt.figure(figsize=(8,4))\n",
    "    sns.histplot(data=df_flat, x='tenure', hue='Churn', multiple='stack', bins=30)\n",
    "    plt.title('Distribución de tenure según Churn')\n",
    "    plt.xlabel('Meses de contrato')\n",
    "    plt.show()"
   ]
  },
  {
   "cell_type": "markdown",
   "id": "9abfbc81",
   "metadata": {},
   "source": [
    "## 6️⃣ Modelado simple de churn\n",
    "Se entrena un modelo de regresión logística con las variables más relevantes y se evalúa su desempeño."
   ]
  },
  {
   "cell_type": "code",
   "execution_count": 20,
   "id": "66577ec9",
   "metadata": {},
   "outputs": [
    {
     "name": "stdout",
     "output_type": "stream",
     "text": [
      "R^2 (score): 0.796\n",
      "Accuracy: 0.7960246095598675\n",
      "Classification Report:               precision    recall  f1-score   support\n",
      "\n",
      "           0       0.83      0.90      0.87      1562\n",
      "           1       0.64      0.49      0.56       551\n",
      "\n",
      "    accuracy                           0.80      2113\n",
      "   macro avg       0.74      0.70      0.71      2113\n",
      "weighted avg       0.78      0.80      0.79      2113\n",
      "\n",
      "ROC AUC: 0.8247959129135479\n",
      "Confusion Matrix: [[1412  150]\n",
      " [ 281  270]]\n"
     ]
    }
   ],
   "source": [
    "# Selección de variables independientes\n",
    "features = []\n",
    "if 'tenure' in df_flat.columns:\n",
    "    features.append('tenure')\n",
    "if 'SeniorCitizen' in df_flat.columns:\n",
    "    features.append('SeniorCitizen')\n",
    "if 'Contract' in df_flat.columns:\n",
    "    df_flat = df_flat.copy()\n",
    "    df_flat = pd.get_dummies(df_flat, columns=['Contract'], drop_first=True)\n",
    "    features += [col for col in df_flat.columns if col.startswith('Contract_')]\n",
    "if 'Charges.Monthly' in df_flat.columns:\n",
    "    features.append('Charges.Monthly')\n",
    "X = df_flat[features]\n",
    "y = df_flat['Churn'].map({'No': 0, 'Yes': 1})\n",
    "X_train, X_test, y_train, y_test = train_test_split(X, y, test_size=0.3, random_state=42)\n",
    "model = LogisticRegression(max_iter=1000)\n",
    "model.fit(X_train, y_train)\n",
    "y_pred = model.predict(X_test)\n",
    "y_proba = model.predict_proba(X_test)[:,1]\n",
    "r2 = model.score(X_test, y_test)\n",
    "print(f'R^2 (score): {r2:.3f}')\n",
    "print('Accuracy:', accuracy_score(y_test, y_pred))\n",
    "print('Classification Report:', classification_report(y_test, y_pred))\n",
    "print('ROC AUC:', roc_auc_score(y_test, y_proba))\n",
    "print('Confusion Matrix:', confusion_matrix(y_test, y_pred))"
   ]
  },
  {
   "cell_type": "markdown",
   "id": "0014e688",
   "metadata": {},
   "source": [
    "## 7️⃣ Conclusiones\n",
    "\n",
    "- El modelo de regresión logística simple obtuvo un R² (score) de **0.796** y una accuracy de **0.80**, lo que indica un buen ajuste general para un primer modelo predictivo de churn.\n",
    "- El valor de **ROC AUC (0.82)** muestra que el modelo tiene una buena capacidad para discriminar entre clientes que se quedan y los que se van.\n",
    "- El classification report revela que la precisión para predecir clientes que NO hacen churn (clase 0) es alta (precision 0.83, recall 0.90), mientras que para los que SÍ hacen churn (clase 1) la precisión es menor (precision 0.64, recall 0.49). Esto es común en datasets desbalanceados.\n",
    "- La matriz de confusión muestra que el modelo identifica correctamente a la mayoría de los clientes que permanecen (1412/1562), pero tiene dificultades para identificar a todos los que se van (270/551 correctamente identificados).\n",
    "- Las variables más relevantes para el modelo fueron: tenure, SeniorCitizen, tipo de contrato y Charges.Monthly, lo que coincide con los hallazgos del análisis exploratorio.\n",
    "- Se recomienda probar modelos más complejos (árboles, ensambles) y realizar un ajuste de hiperparámetros, así como explorar técnicas de balanceo de clases para mejorar la predicción de clientes que hacen churn."
   ]
  }
 ],
 "metadata": {
  "kernelspec": {
   "display_name": "Python 3",
   "language": "python",
   "name": "python3"
  },
  "language_info": {
   "codemirror_mode": {
    "name": "ipython",
    "version": 3
   },
   "file_extension": ".py",
   "mimetype": "text/x-python",
   "name": "python",
   "nbconvert_exporter": "python",
   "pygments_lexer": "ipython3",
   "version": "3.10.0"
  }
 },
 "nbformat": 4,
 "nbformat_minor": 5
}
